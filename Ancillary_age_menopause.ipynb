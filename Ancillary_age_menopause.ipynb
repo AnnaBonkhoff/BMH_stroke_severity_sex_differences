{
 "cells": [
  {
   "cell_type": "code",
   "execution_count": 1,
   "metadata": {},
   "outputs": [],
   "source": [
    "import numpy as np\n",
    "import pandas as pd\n",
    "from scipy import stats\n",
    "import glob\n",
    "import matplotlib.pyplot as plt\n",
    "import pymc3 as pm\n",
    "import theano\n",
    "from sklearn.metrics import r2_score\n",
    "import seaborn as sns\n",
    "from theano import tensor as tt\n",
    "from nilearn import datasets\n",
    "from sklearn.impute import SimpleImputer\n",
    "from sklearn.preprocessing import StandardScaler\n",
    "from nilearn.input_data import NiftiLabelsMasker\n",
    "from sklearn.decomposition import NMF\n",
    "from nilearn.image import resample_to_img\n",
    "import nibabel as nib\n",
    "from nilearn import signal\n",
    "from scipy.stats import iqr\n",
    "\n",
    "pd.set_option('display.max_columns', 200)\n",
    "pd.set_option('display.max_rows', 200)"
   ]
  },
  {
   "cell_type": "markdown",
   "metadata": {},
   "source": [
    "Please note that we rearranged the order of NMF components, or lesion atoms, in our publication,\n",
    "i.e., according to hemisphere and anterior-posterior main weights."
   ]
  },
  {
   "cell_type": "code",
   "execution_count": 2,
   "metadata": {},
   "outputs": [],
   "source": [
    "Merged_clinical_age = pd.read_csv(\"/.../BMH/Final_models/Gasros/Merged_clinical_age_210111.csv\")\n",
    "Merged_nmf_lesions_subtype = np.array(pd.read_csv(\"/.../BMH/Final_models/Gasros/Merged_lesions_age_210111.csv\", index_col=0))"
   ]
  },
  {
   "cell_type": "code",
   "execution_count": 3,
   "metadata": {},
   "outputs": [],
   "source": [
    "sex_idx = [0,0,1,1]\n",
    "n_sex = len(np.unique(sex_idx))\n",
    "sex_study_idx = np.array(Merged_clinical_age.Sex_age).astype(int)\n",
    "n_sex_study = len(np.unique(sex_study_idx))\n",
    "n_components = 10"
   ]
  },
  {
   "cell_type": "code",
   "execution_count": 4,
   "metadata": {},
   "outputs": [],
   "source": [
    "with pm.Model() as ancillary_age:\n",
    "    \n",
    "    b_all = [\"b_1\", \"b_2\", \"b_3\", \"b_4\", \"b_5\", \"b_6\", \"b_7\", \"b_8\", \"b_9\", \"b_10\"]\n",
    "   \n",
    "    mu = pm.Normal(\"a\", mu=0, sd=1)\n",
    "    \n",
    "    sigma_b_hyper_hyper = pm.HalfCauchy(\"sigma_b_hyper\", 5, shape=1)\n",
    "    sigma_b_hyper = pm.HalfCauchy(\"sigma_b_all_hyper\", sigma_b_hyper_hyper, shape=2)\n",
    "    sigma_b_all = pm.HalfCauchy(\"sigma_b_all\", sigma_b_hyper[sex_idx], shape=4)\n",
    "    \n",
    "    mu_b_all_hyper_hyper = pm.Normal('mu_b_all_hyper_hyper', mu=0, sd=10, shape=1)\n",
    "    mu_b_all_hyper = pm.Normal('mu_b_all_hyper', mu=mu_b_all_hyper_hyper, sd=10, shape=2)\n",
    "    mu_b_all = pm.Normal('mu_b_all', mu=mu_b_all_hyper[sex_idx], sd=10, shape=4)\n",
    "    \n",
    "    model_lower_vars = []\n",
    "    for i_component in range(n_components):\n",
    "            cur_beta = pm.Normal(b_all[i_component], mu=mu_b_all, sd=sigma_b_all, shape=4)\n",
    "        \n",
    "            mu = mu + cur_beta[sex_study_idx] * Merged_nmf_lesions_subtype[:, i_component]\n",
    "\n",
    "            model_lower_vars.append(cur_beta)\n",
    "\n",
    "    cov1_beta = pm.Normal(\"cov1_age\", mu=0, sd=10, shape=1)\n",
    "    mu = mu + cov1_beta * np.array(Merged_clinical_age.Age_scaled)\n",
    "    cov2_beta = pm.Normal(\"cov2_age2\", mu=0, sd=10, shape=1)\n",
    "    mu = mu + cov2_beta * np.array(Merged_clinical_age.Age_scaled_2)\n",
    "    cov3_beta = pm.Normal(\"cov3_sex\", mu=0, sd=1, shape=1)\n",
    "    mu = mu + cov3_beta * np.array(Merged_clinical_age.Sex)\n",
    "\n",
    "    cov7_beta = pm.Normal(\"cov7_hypertension\", mu=0, sd=1, shape=1)\n",
    "    mu = mu + cov7_beta * np.array(Merged_clinical_age.HTN)\n",
    "    cov8_beta = pm.Normal(\"cov8_dm\", mu=0, sd=1, shape=1)\n",
    "    mu = mu + cov8_beta * np.array(Merged_clinical_age.DM2)\n",
    "    cov9_beta = pm.Normal(\"cov9_af\", mu=0, sd=1, shape=1)\n",
    "    mu = mu + cov9_beta * np.array(Merged_clinical_age.AF)\n",
    "    cov10_beta = pm.Normal(\"cov10_cad\", mu=0, sd=1, shape=1)\n",
    "    mu = mu + cov10_beta * np.array(Merged_clinical_age.CAD)\n",
    "    cov11_beta = pm.Normal(\"cov11_wmh\", mu=0, sd=1, shape=1)\n",
    "    mu = mu + cov11_beta * np.array(Merged_clinical_age.WMH_scaled)\n",
    "\n",
    "    hyper_cov12_beta = pm.Normal(\"hyper_cov12_study\", mu=0, sd=1)\n",
    "    cov12_beta = pm.Normal(\"cov12_study\", mu=hyper_cov12_beta, sd=1, shape=2)\n",
    "    mu = mu + cov12_beta[np.array(Merged_clinical_age.Study)]\n",
    "    # Model error\n",
    "    eps = pm.HalfCauchy('eps',20)\n",
    "    # Data likelihood\n",
    "    NIHSS_like = pm.Normal('NIHSS_like', mu=mu, sd=eps, observed=np.array(Merged_clinical_age.NIHSS))"
   ]
  },
  {
   "cell_type": "code",
   "execution_count": 5,
   "metadata": {},
   "outputs": [],
   "source": [
    "with ancillary_age:\n",
    "    ancillary_age_trace = pm.sample(draws=5000, n_init=1000, random_seed=123, chains=1)\n",
    "#pm.save_trace(ancillary_age_trace, \"/.../BMH/Final_models/Gasros/Ancillary_age_trace_210111.trace\")\n",
    "\n",
    "# Difference distributions: Men - Women below the age of menopause\n",
    "\n",
    "#for i in range(1, 11):\n",
    "    #fig = pm.plot_posterior((ancillary_age_trace[1000:]['b_%i' % i][:,0] - ancillary_age_trace[1000:]['b_%i' % i][:,1]),round_to=3, kind='hist', credible_interval=0.9, color=\"#e99e40\")   \n",
    "    \n",
    "# Difference distributions: Men - Women above the age of menopause\n",
    "\n",
    "#for i in range(1, 11):\n",
    "    #fig = pm.plot_posterior((ancillary_age_trace[1000:]['b_%i' % i][:,2] - ancillary_age_trace[1000:]['b_%i' % i][:,3]),round_to=3, kind='hist', credible_interval=0.9, color=\"#e99e40\")\n",
    "    "
   ]
  },
  {
   "cell_type": "code",
   "execution_count": null,
   "metadata": {},
   "outputs": [],
   "source": []
  }
 ],
 "metadata": {
  "kernelspec": {
   "display_name": "Python 3",
   "language": "python",
   "name": "python3"
  },
  "language_info": {
   "codemirror_mode": {
    "name": "ipython",
    "version": 3
   },
   "file_extension": ".py",
   "mimetype": "text/x-python",
   "name": "python",
   "nbconvert_exporter": "python",
   "pygments_lexer": "ipython3",
   "version": "3.7.1"
  }
 },
 "nbformat": 4,
 "nbformat_minor": 2
}
